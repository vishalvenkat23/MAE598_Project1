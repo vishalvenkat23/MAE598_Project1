{
 "cells": [
  {
   "cell_type": "markdown",
   "id": "0f222a83",
   "metadata": {},
   "source": [
    "# Project 1: Gradient-based Algorithms and Differentiable Programming\n",
    "\n",
    "\n",
    "## 1. Introduction\n",
    "Consider a simple formulation of rocket landing where the rocket state $x(t)$ is represented by its distance to the ground $d(t)$ and its velocity $v(t)$, i.e., $x(t) = [d(t), v(t)]^T$, where $t$ specifies time. The control input of the rocket is its acceleration $a(t)$. The discrete-time dynamics follows \n",
    "\n",
    "$$\n",
    "\\begin{aligned}\n",
    "d(t+1) = d(t) + v(t) \\Delta t, \\\\\n",
    "v(t+1) = v(t) + a(t) \\Delta t,\n",
    "\\end{aligned}\n",
    "$$\n",
    "\n",
    "where $\\Delta t$ is a time interval. Further, let the closed-loop controller be \n",
    "\n",
    "$$\n",
    "a(t) = f_{\\theta}(x(t))\n",
    "$$\n",
    "\n",
    "where $f_{\\theta}(\\cdot)$ is a neural network with parameters $\\theta$, which are to be determined through optimization.\n",
    "\n",
    "For each time step, we assign a loss as a function of the control input and the state: $l(x(t),a(t))$. In this example, we will simply set $l(x(t),a(t))=0$ for all $t=1,...,T-1$, where $T$ is the final time step, and $l(x(T),a(T)) = ||x(T)||^2 = d(T)^2 + v(T)^2$. This loss encourages the rocket to reach $d(T)=0$ and $v(T)=0$, which are proper landing conditions.\n",
    "\n",
    "The optimization problem is now formulated as\n",
    "\n",
    "$$\n",
    "\\begin{aligned}\n",
    "\\min_{\\theta} \\quad & ||x(T)||^2 \\\\\n",
    "\\quad & d(t+1) = d(t) + v(t) \\Delta t, \\\\\n",
    "\\quad & v(t+1) = v(t) + a(t) \\Delta t, \\\\\n",
    "\\quad & a(t) = f_{\\theta}(x(t)), ~\\forall t=1,...,T-1\n",
    "\\end{aligned}\n",
    "$$\n",
    "\n",
    "While this problem is constrained, it is easy to see that the objective function can be expressed as a function of $x(T-1) and a(T-1)$, where $x(T-1)$ as a function of $x(T-2)$ and $a(T-2)$, and so on. Thus it is essentially an unconstrained problem with respect to $\\theta$. \n",
    "\n",
    "In the following, we code this problem up with [PyTorch](https://pytorch.org/), which allows us to only build the forward pass of the loss (i.e., how we move from $x(1)$ to $x(2)$ and all the way to $x(T)$) and automatically get the gradient $\\nabla_{\\theta} l(x(T),a(T))$."
   ]
  },
  {
   "cell_type": "markdown",
   "id": "e79e5c09",
   "metadata": {},
   "source": [
    "Simple code for drag constraint."
   ]
  },
  {
   "cell_type": "code",
   "execution_count": 9,
   "id": "0f1ba85a",
   "metadata": {},
   "outputs": [],
   "source": [
    "# overhead\n",
    "\n",
    "import logging\n",
    "import math\n",
    "import random\n",
    "import numpy as np\n",
    "import time\n",
    "import torch as t\n",
    "import torch.nn as nn\n",
    "from torch import optim\n",
    "from torch.nn import utils\n",
    "import matplotlib.pyplot as plt\n",
    "\n",
    "logger = logging.getLogger(__name__)"
   ]
  },
  {
   "cell_type": "code",
   "execution_count": 10,
   "id": "eb67f166",
   "metadata": {},
   "outputs": [
    {
     "data": {
      "text/plain": [
       "' Drag calculation\\n    D = Cd * A * 0.5 * r * V**2 \\n    assume Cd = 0.3\\n    A = 4 m**2\\n    r = 850 kg/m**3 for steel\\n    V = delta_state\\n    m = 50000 Kg\\n    force equilibrium \\n    m * D_decel = D\\n    D_decel = 0.00658 * delta_state**2 '"
      ]
     },
     "execution_count": 10,
     "metadata": {},
     "output_type": "execute_result"
    }
   ],
   "source": [
    "# environment parameters\n",
    "\n",
    "FRAME_TIME = 0.1  # time interval\n",
    "GRAVITY_ACCEL = 0.16  # gravity constant\n",
    "BOOST_ACCEL = 0.20  # thrust constant\n",
    "drag = 0.5\n",
    "\"\"\" Drag calculation\n",
    "    D = Cd * A * 0.5 * r * V**2 \n",
    "    assume Cd = 0.3\n",
    "    A = 4 m**2\n",
    "    r = 850 kg/m**3 for steel\n",
    "    V = delta_state\n",
    "    m = 50000 Kg\n",
    "    force equilibrium \n",
    "    m * D_decel = D\n",
    "    D_decel = 0.00658 * delta_state**2 \"\"\"\n",
    "# # the following parameters are not being used in the sample code\n",
    "# PLATFORM_WIDTH = 0.25  # landing platform width\n",
    "# PLATFORM_HEIGHT = 0.06  # landing platform height\n",
    "# ROTATION_ACCEL = 20  # rotation constant"
   ]
  },
  {
   "cell_type": "code",
   "execution_count": 11,
   "id": "49b9080a",
   "metadata": {},
   "outputs": [],
   "source": [
    "# define system dynamics\n",
    "\n",
    "class Dynamics(nn.Module):\n",
    "\n",
    "    def __init__(self):\n",
    "        super(Dynamics, self).__init__()\n",
    "\n",
    "    @staticmethod\n",
    "    def forward(state, action):\n",
    "        \"\"\"\n",
    "        action: thrust or no thrust\n",
    "        state[0] = y\n",
    "        state[1] = y_dot\n",
    "        state[2] = x\n",
    "        state[3] = x_dot\n",
    "        \"\"\"\n",
    "\n",
    "# Initialize a matrix for new delta states\n",
    "#         delta_state_mat = []\n",
    "#         for i in range(len(state)):\n",
    "\n",
    "            #gravity\n",
    "#             delta_state_gravity = t.tensor([0., GRAVITY_ACCEL*FRAME_TIME, 0., 0.])\n",
    "\n",
    "            #Drag\n",
    "#             delta_state_drag = t.tensor([0.,0.,0.,-drag * FRAME_TIME])\n",
    "\n",
    "            # thrust\n",
    "#             delta_state_thrust = BOOST_ACCEL * FRAME_TIME * t.tensor([0., 0., 1., 1.]) * t.cat((t.zeros(2), action[i]))\n",
    "\n",
    "\n",
    "#             delta_state = delta_state_thrust + delta_state_drag + delta_state_gravity\n",
    "#             delta_state_mat.append(delta_state)\n",
    "#         delta_state_mat_ten = t.stack(delta_state_mat)\n",
    "\n",
    "        #Velocity\n",
    "#         state = state + delta_state_mat_ten\n",
    "\n",
    "#         gravity\n",
    "        delta_state_gravity = t.tensor([0., GRAVITY_ACCEL * FRAME_TIME, 0., 0.])\n",
    "        \n",
    "        delta_state_y = BOOST_ACCEL * FRAME_TIME * t.tensor([0., -1., 0., 0.]) * action[0]\n",
    "        \n",
    "        delta_state_x = BOOST_ACCEL * FRAME_TIME * t.tensor([0., 0., 0., 1.]) * action[1]\n",
    "        \n",
    "        temp = delta_state_y\n",
    "        \n",
    "        D_decel = 0.00658 * temp * temp\n",
    "        \n",
    "        Net_Accel = BOOST_ACCEL - D_decel\n",
    "        \n",
    "        delta_state_y = Net_Accel * FRAME_TIME * t.tensor([0., -1., 0., 0.]) * action[0]\n",
    "        \n",
    "        state = state + delta_state_y + delta_state_x + delta_state_gravity\n",
    "        #Position\n",
    "        step_mat = t.tensor([[1., FRAME_TIME, 0., 0.],\n",
    "                            [0., 1., 0., 0.],\n",
    "                            [0., 0., 1., FRAME_TIME],\n",
    "                            [0., 0., 0., 1]])\n",
    "        \n",
    "        state = t.matmul(state, step_mat)\n",
    "\n",
    "        return state\n",
    "        print(type(state))"
   ]
  },
  {
   "cell_type": "code",
   "execution_count": 12,
   "id": "9e29a6a2",
   "metadata": {},
   "outputs": [],
   "source": [
    "# a deterministic controller\n",
    "# Note:\n",
    "# 0. You only need to change the network architecture in \"__init__\"\n",
    "# 1. nn.Sigmoid outputs values from 0 to 1, nn.Tanh from -1 to 1\n",
    "# 2. You have all the freedom to make the network wider (by increasing \"dim_hidden\") or \n",
    "# deeper (by adding more lines to nn.Sequential)\n",
    "# 3. Always start with something simple\n",
    "\n",
    "class Controller(nn.Module):\n",
    "\n",
    "    def __init__(self, dim_input, dim_hidden, dim_output):\n",
    "        \"\"\"\n",
    "        dim_input: 3 # of system states\n",
    "        dim_output: 1 # of actions\n",
    "        dim_hidden: 10 # up to you\n",
    "        \"\"\"\n",
    "        super(Controller, self).__init__()\n",
    "        self.network = nn.Sequential(\n",
    "            nn.Linear(dim_input, dim_hidden),\n",
    "            nn.Tanh(),\n",
    "            nn.Linear(dim_hidden, dim_hidden),\n",
    "            nn.Tanh(),\n",
    "            nn.Linear(dim_hidden, dim_output),\n",
    "            # You can add more layers here\n",
    "            nn.Sigmoid()\n",
    "        )\n",
    "\n",
    "    def forward(self, state):\n",
    "        action = self.network(state)\n",
    "        return action"
   ]
  },
  {
   "cell_type": "code",
   "execution_count": 13,
   "id": "d6d39c69",
   "metadata": {},
   "outputs": [],
   "source": [
    "# the simulator that rolls out x(1), x(2), ..., x(T)\n",
    "# Note:\n",
    "# 0. Need to change \"initialize_state\" to optimize the controller over a distribution of initial states\n",
    "# 1. self.action_trajectory and self.state_trajectory stores the action and state trajectories along time\n",
    "\n",
    "class Simulation(nn.Module):\n",
    "\n",
    "    def __init__(self, controller, dynamics, T):\n",
    "        super(Simulation, self).__init__()\n",
    "        self.state = self.initialize_state()\n",
    "        self.controller = controller\n",
    "        self.dynamics = dynamics\n",
    "        self.T = T\n",
    "        self.action_trajectory = []\n",
    "        self.state_trajectory = []\n",
    "\n",
    "    def forward(self, state):\n",
    "        self.action_trajectory = []\n",
    "        self.state_trajectory = []\n",
    "        for _ in range(T):\n",
    "            action = self.controller.forward(state)\n",
    "            state = self.dynamics.forward(state, action)\n",
    "            self.action_trajectory.append(action)\n",
    "            self.state_trajectory.append(state)\n",
    "        return self.error(state)\n",
    "\n",
    "    @staticmethod\n",
    "    def initialize_state():\n",
    "        \n",
    "        state = [0., 1., 0.5, 2.]  # TODO: need batch of initial states\n",
    "        return t.tensor(state, requires_grad=False).float()\n",
    "\n",
    "    def error(self, state):\n",
    "        return state[0]**2 + state[1]**2 + state[2]**2 + state[3]**2"
   ]
  },
  {
   "cell_type": "code",
   "execution_count": 19,
   "id": "af9d9ca6",
   "metadata": {},
   "outputs": [],
   "source": [
    "# set up the optimizer\n",
    "# Note:\n",
    "# 0. LBFGS is a good choice if you don't have a large batch size (i.e., a lot of initial \n",
    "#    states to consider simultaneously)\n",
    "# 1. You can also try SGD and other momentum-based methods implemented in PyTorch\n",
    "# 2. You will need to customize \"visualize\"\n",
    "# 3. loss.backward is where the gradient is calculated (d_loss/d_variables)\n",
    "# 4. self.optimizer.step(closure) is where gradient descent is done\n",
    "\n",
    "class Optimize:\n",
    "    def __init__(self, simulation):\n",
    "        self.simulation = simulation\n",
    "        self.parameters = simulation.controller.parameters()\n",
    "        self.optimizer = optim.LBFGS(self.parameters, lr=0.01)\n",
    "\n",
    "    def step(self):\n",
    "        def closure():\n",
    "            loss = self.simulation(self.simulation.state)\n",
    "            self.optimizer.zero_grad()\n",
    "            loss.backward() # need to go through this part\n",
    "            return loss\n",
    "        self.optimizer.step(closure) # need to go through this\n",
    "        return closure()\n",
    "    \n",
    "    def train(self, epochs):\n",
    "        for epoch in range(epochs):\n",
    "            loss = self.step()\n",
    "            print('[%d] loss: %.3f' % (epoch + 1, loss))\n",
    "            self.visualize()\n",
    "\n",
    "    def visualize(self):\n",
    "        data = np.array([self.simulation.state_trajectory[i].detach().numpy() for i in range(self.simulation.T)])\n",
    "        x = data[:, 0]\n",
    "        y = data[:, 1]\n",
    "        a = data[:, 2]\n",
    "        b = data[:, 3]\n",
    "        \n",
    "        plt.plot(x, y)\n",
    "        plt.plot(a, b)\n",
    "        plt.tight_layout()\n",
    "        plt.show()"
   ]
  },
  {
   "cell_type": "code",
   "execution_count": 20,
   "id": "e05de9a7",
   "metadata": {},
   "outputs": [
    {
     "name": "stdout",
     "output_type": "stream",
     "text": [
      "[1] loss: 54.794\n"
     ]
    },
    {
     "data": {
      "image/png": "[encoded data removed]",
      "text/plain": [
       "<Figure size 432x288 with 1 Axes>"
      ]
     },
     "metadata": {
      "needs_background": "light"
     },
     "output_type": "display_data"
    },
    {
     "name": "stdout",
     "output_type": "stream",
     "text": [
      "[2] loss: 52.360\n"
     ]
    },
    {
     "data": {
      "image/png": "[encoded data removed]",
      "text/plain": [
       "<Figure size 432x288 with 1 Axes>"
      ]
     },
     "metadata": {
      "needs_background": "light"
     },
     "output_type": "display_data"
    },
    {
     "name": "stdout",
     "output_type": "stream",
     "text": [
      "[3] loss: 51.436\n"
     ]
    },
    {
     "data": {
      "image/png": "[encoded data removed]",
      "text/plain": [
       "<Figure size 432x288 with 1 Axes>"
      ]
     },
     "metadata": {
      "needs_background": "light"
     },
     "output_type": "display_data"
    },
    {
     "name": "stdout",
     "output_type": "stream",
     "text": [
      "[4] loss: 50.907\n"
     ]
    },
    {
     "data": {
      "image/png": "[encoded data removed]",
      "text/plain": [
       "<Figure size 432x288 with 1 Axes>"
      ]
     },
     "metadata": {
      "needs_background": "light"
     },
     "output_type": "display_data"
    },
    {
     "name": "stdout",
     "output_type": "stream",
     "text": [
      "[5] loss: 50.470\n"
     ]
    },
    {
     "data": {
      "image/png": "[encoded data removed]",
      "text/plain": [
       "<Figure size 432x288 with 1 Axes>"
      ]
     },
     "metadata": {
      "needs_background": "light"
     },
     "output_type": "display_data"
    },
    {
     "name": "stdout",
     "output_type": "stream",
     "text": [
      "[6] loss: 50.068\n"
     ]
    },
    {
     "data": {
      "image/png": "[encoded data removed]",
      "text/plain": [
       "<Figure size 432x288 with 1 Axes>"
      ]
     },
     "metadata": {
      "needs_background": "light"
     },
     "output_type": "display_data"
    },
    {
     "name": "stdout",
     "output_type": "stream",
     "text": [
      "[7] loss: 49.916\n"
     ]
    },
    {
     "data": {
      "image/png": "[encoded data removed]",
      "text/plain": [
       "<Figure size 432x288 with 1 Axes>"
      ]
     },
     "metadata": {
      "needs_background": "light"
     },
     "output_type": "display_data"
    },
    {
     "name": "stdout",
     "output_type": "stream",
     "text": [
      "[8] loss: 49.811\n"
     ]
    },
    {
     "data": {
      "image/png": "[encoded data removed]",
      "text/plain": [
       "<Figure size 432x288 with 1 Axes>"
      ]
     },
     "metadata": {
      "needs_background": "light"
     },
     "output_type": "display_data"
    },
    {
     "name": "stdout",
     "output_type": "stream",
     "text": [
      "[9] loss: 49.756\n"
     ]
    },
    {
     "data": {
      "image/png": "[encoded data removed]",
      "text/plain": [
       "<Figure size 432x288 with 1 Axes>"
      ]
     },
     "metadata": {
      "needs_background": "light"
     },
     "output_type": "display_data"
    },
    {
     "name": "stdout",
     "output_type": "stream",
     "text": [
      "[10] loss: 49.724\n"
     ]
    },
    {
     "data": {
      "image/png": "[encoded data removed]",
      "text/plain": [
       "<Figure size 432x288 with 1 Axes>"
      ]
     },
     "metadata": {
      "needs_background": "light"
     },
     "output_type": "display_data"
    },
    {
     "name": "stdout",
     "output_type": "stream",
     "text": [
      "[11] loss: 49.701\n"
     ]
    },
    {
     "data": {
      "image/png": "[encoded data removed]",
      "text/plain": [
       "<Figure size 432x288 with 1 Axes>"
      ]
     },
     "metadata": {
      "needs_background": "light"
     },
     "output_type": "display_data"
    },
    {
     "name": "stdout",
     "output_type": "stream",
     "text": [
      "[12] loss: 49.682\n"
     ]
    },
    {
     "data": {
      "image/png": "[encoded data removed]",
      "text/plain": [
       "<Figure size 432x288 with 1 Axes>"
      ]
     },
     "metadata": {
      "needs_background": "light"
     },
     "output_type": "display_data"
    },
    {
     "name": "stdout",
     "output_type": "stream",
     "text": [
      "[13] loss: 49.658\n"
     ]
    },
    {
     "data": {
      "image/png": "[encoded data removed]",
      "text/plain": [
       "<Figure size 432x288 with 1 Axes>"
      ]
     },
     "metadata": {
      "needs_background": "light"
     },
     "output_type": "display_data"
    },
    {
     "name": "stdout",
     "output_type": "stream",
     "text": [
      "[14] loss: 49.640\n"
     ]
    },
    {
     "data": {
      "image/png": "[encoded data removed]",
      "text/plain": [
       "<Figure size 432x288 with 1 Axes>"
      ]
     },
     "metadata": {
      "needs_background": "light"
     },
     "output_type": "display_data"
    },
    {
     "name": "stdout",
     "output_type": "stream",
     "text": [
      "[15] loss: 49.633\n"
     ]
    },
    {
     "data": {
      "image/png": "[encoded data removed]",
      "text/plain": [
       "<Figure size 432x288 with 1 Axes>"
      ]
     },
     "metadata": {
      "needs_background": "light"
     },
     "output_type": "display_data"
    },
    {
     "name": "stdout",
     "output_type": "stream",
     "text": [
      "[16] loss: 49.628\n"
     ]
    },
    {
     "data": {
      "image/png": "[encoded data removed]",
      "text/plain": [
       "<Figure size 432x288 with 1 Axes>"
      ]
     },
     "metadata": {
      "needs_background": "light"
     },
     "output_type": "display_data"
    },
    {
     "name": "stdout",
     "output_type": "stream",
     "text": [
      "[17] loss: 49.625\n"
     ]
    },
    {
     "data": {
      "image/png": "[encoded data removed]",
      "text/plain": [
       "<Figure size 432x288 with 1 Axes>"
      ]
     },
     "metadata": {
      "needs_background": "light"
     },
     "output_type": "display_data"
    },
    {
     "name": "stdout",
     "output_type": "stream",
     "text": [
      "[18] loss: 49.622\n"
     ]
    },
    {
     "data": {
      "image/png": "[encoded data removed]",
      "text/plain": [
       "<Figure size 432x288 with 1 Axes>"
      ]
     },
     "metadata": {
      "needs_background": "light"
     },
     "output_type": "display_data"
    },
    {
     "name": "stdout",
     "output_type": "stream",
     "text": [
      "[19] loss: 49.619\n"
     ]
    },
    {
     "data": {
      "image/png": "[encoded data removed]",
      "text/plain": [
       "<Figure size 432x288 with 1 Axes>"
      ]
     },
     "metadata": {
      "needs_background": "light"
     },
     "output_type": "display_data"
    },
    {
     "name": "stdout",
     "output_type": "stream",
     "text": [
      "[20] loss: 49.615\n"
     ]
    },
    {
     "data": {
      "image/png": "[encoded data removed]",
      "text/plain": [
       "<Figure size 432x288 with 1 Axes>"
      ]
     },
     "metadata": {
      "needs_background": "light"
     },
     "output_type": "display_data"
    },
    {
     "name": "stdout",
     "output_type": "stream",
     "text": [
      "[21] loss: 49.613\n"
     ]
    },
    {
     "data": {
      "image/png": "[encoded data removed]",
      "text/plain": [
       "<Figure size 432x288 with 1 Axes>"
      ]
     },
     "metadata": {
      "needs_background": "light"
     },
     "output_type": "display_data"
    },
    {
     "name": "stdout",
     "output_type": "stream",
     "text": [
      "[22] loss: 49.612\n"
     ]
    },
    {
     "data": {
      "image/png": "[encoded data removed]",
      "text/plain": [
       "<Figure size 432x288 with 1 Axes>"
      ]
     },
     "metadata": {
      "needs_background": "light"
     },
     "output_type": "display_data"
    },
    {
     "name": "stdout",
     "output_type": "stream",
     "text": [
      "[23] loss: 49.611\n"
     ]
    },
    {
     "data": {
      "image/png": "[encoded data removed]",
      "text/plain": [
       "<Figure size 432x288 with 1 Axes>"
      ]
     },
     "metadata": {
      "needs_background": "light"
     },
     "output_type": "display_data"
    },
    {
     "name": "stdout",
     "output_type": "stream",
     "text": [
      "[24] loss: 49.611\n"
     ]
    },
    {
     "data": {
      "image/png": "[encoded data removed]",
      "text/plain": [
       "<Figure size 432x288 with 1 Axes>"
      ]
     },
     "metadata": {
      "needs_background": "light"
     },
     "output_type": "display_data"
    },
    {
     "name": "stdout",
     "output_type": "stream",
     "text": [
      "[25] loss: 49.611\n"
     ]
    },
    {
     "data": {
      "image/png": "[encoded data removed]",
      "text/plain": [
       "<Figure size 432x288 with 1 Axes>"
      ]
     },
     "metadata": {
      "needs_background": "light"
     },
     "output_type": "display_data"
    },
    {
     "name": "stdout",
     "output_type": "stream",
     "text": [
      "[26] loss: 49.611\n"
     ]
    },
    {
     "data": {
      "image/png": "[encoded data removed]",
      "text/plain": [
       "<Figure size 432x288 with 1 Axes>"
      ]
     },
     "metadata": {
      "needs_background": "light"
     },
     "output_type": "display_data"
    },
    {
     "name": "stdout",
     "output_type": "stream",
     "text": [
      "[27] loss: 49.610\n"
     ]
    },
    {
     "data": {
      "image/png": "[encoded data removed]",
      "text/plain": [
       "<Figure size 432x288 with 1 Axes>"
      ]
     },
     "metadata": {
      "needs_background": "light"
     },
     "output_type": "display_data"
    },
    {
     "name": "stdout",
     "output_type": "stream",
     "text": [
      "[28] loss: 49.610\n"
     ]
    },
    {
     "data": {
      "image/png": "[encoded data removed]",
      "text/plain": [
       "<Figure size 432x288 with 1 Axes>"
      ]
     },
     "metadata": {
      "needs_background": "light"
     },
     "output_type": "display_data"
    },
    {
     "name": "stdout",
     "output_type": "stream",
     "text": [
      "[29] loss: 49.610\n"
     ]
    },
    {
     "data": {
      "image/png": "[encoded data removed]",
      "text/plain": [
       "<Figure size 432x288 with 1 Axes>"
      ]
     },
     "metadata": {
      "needs_background": "light"
     },
     "output_type": "display_data"
    },
    {
     "name": "stdout",
     "output_type": "stream",
     "text": [
      "[30] loss: 49.610\n"
     ]
    },
    {
     "data": {
      "image/png": "[encoded data removed]",
      "text/plain": [
       "<Figure size 432x288 with 1 Axes>"
      ]
     },
     "metadata": {
      "needs_background": "light"
     },
     "output_type": "display_data"
    },
    {
     "name": "stdout",
     "output_type": "stream",
     "text": [
      "[31] loss: 49.610\n"
     ]
    },
    {
     "data": {
      "image/png": "[encoded data removed]",
      "text/plain": [
       "<Figure size 432x288 with 1 Axes>"
      ]
     },
     "metadata": {
      "needs_background": "light"
     },
     "output_type": "display_data"
    },
    {
     "name": "stdout",
     "output_type": "stream",
     "text": [
      "[32] loss: 49.610\n"
     ]
    },
    {
     "data": {
      "image/png": "[encoded data removed]",
      "text/plain": [
       "<Figure size 432x288 with 1 Axes>"
      ]
     },
     "metadata": {
      "needs_background": "light"
     },
     "output_type": "display_data"
    },
    {
     "name": "stdout",
     "output_type": "stream",
     "text": [
      "[33] loss: 49.610\n"
     ]
    },
    {
     "data": {
      "image/png": "[encoded data removed]",
      "text/plain": [
       "<Figure size 432x288 with 1 Axes>"
      ]
     },
     "metadata": {
      "needs_background": "light"
     },
     "output_type": "display_data"
    },
    {
     "name": "stdout",
     "output_type": "stream",
     "text": [
      "[34] loss: 49.610\n"
     ]
    },
    {
     "data": {
      "image/png": "[encoded data removed]",
      "text/plain": [
       "<Figure size 432x288 with 1 Axes>"
      ]
     },
     "metadata": {
      "needs_background": "light"
     },
     "output_type": "display_data"
    },
    {
     "name": "stdout",
     "output_type": "stream",
     "text": [
      "[35] loss: 49.610\n"
     ]
    },
    {
     "data": {
      "image/png": "[encoded data removed]",
      "text/plain": [
       "<Figure size 432x288 with 1 Axes>"
      ]
     },
     "metadata": {
      "needs_background": "light"
     },
     "output_type": "display_data"
    },
    {
     "name": "stdout",
     "output_type": "stream",
     "text": [
      "[36] loss: 49.610\n"
     ]
    },
    {
     "data": {
      "image/png": "[encoded data removed]",
      "text/plain": [
       "<Figure size 432x288 with 1 Axes>"
      ]
     },
     "metadata": {
      "needs_background": "light"
     },
     "output_type": "display_data"
    },
    {
     "name": "stdout",
     "output_type": "stream",
     "text": [
      "[37] loss: 49.610\n"
     ]
    },
    {
     "data": {
      "image/png": "[encoded data removed]",
      "text/plain": [
       "<Figure size 432x288 with 1 Axes>"
      ]
     },
     "metadata": {
      "needs_background": "light"
     },
     "output_type": "display_data"
    },
    {
     "name": "stdout",
     "output_type": "stream",
     "text": [
      "[38] loss: 49.610\n"
     ]
    },
    {
     "data": {
      "image/png": "[encoded data removed]",
      "text/plain": [
       "<Figure size 432x288 with 1 Axes>"
      ]
     },
     "metadata": {
      "needs_background": "light"
     },
     "output_type": "display_data"
    },
    {
     "name": "stdout",
     "output_type": "stream",
     "text": [
      "[39] loss: 49.610\n"
     ]
    },
    {
     "data": {
      "image/png": "[encoded data removed]",
      "text/plain": [
       "<Figure size 432x288 with 1 Axes>"
      ]
     },
     "metadata": {
      "needs_background": "light"
     },
     "output_type": "display_data"
    },
    {
     "name": "stdout",
     "output_type": "stream",
     "text": [
      "[40] loss: 49.610\n"
     ]
    },
    {
     "data": {
      "image/png": "[encoded data removed]",
      "text/plain": [
       "<Figure size 432x288 with 1 Axes>"
      ]
     },
     "metadata": {
      "needs_background": "light"
     },
     "output_type": "display_data"
    },
    {
     "name": "stdout",
     "output_type": "stream",
     "text": [
      "Simulation(\n",
      "  (controller): Controller(\n",
      "    (network): Sequential(\n",
      "      (0): Linear(in_features=4, out_features=10, bias=True)\n",
      "      (1): Tanh()\n",
      "      (2): Linear(in_features=10, out_features=10, bias=True)\n",
      "      (3): Tanh()\n",
      "      (4): Linear(in_features=10, out_features=2, bias=True)\n",
      "      (5): Sigmoid()\n",
      "    )\n",
      "  )\n",
      "  (dynamics): Dynamics()\n",
      ")\n",
      "<class '__main__.Simulation'>\n",
      "Dynamics()\n",
      "Controller(\n",
      "  (network): Sequential(\n",
      "    (0): Linear(in_features=4, out_features=10, bias=True)\n",
      "    (1): Tanh()\n",
      "    (2): Linear(in_features=10, out_features=10, bias=True)\n",
      "    (3): Tanh()\n",
      "    (4): Linear(in_features=10, out_features=2, bias=True)\n",
      "    (5): Sigmoid()\n",
      "  )\n",
      ")\n"
     ]
    }
   ],
   "source": [
    "# Now it's time to run the code!\n",
    "\n",
    "T = 100  # number of time steps\n",
    "dim_input = 4  # state space dimensions\n",
    "dim_hidden = 10  # latent dimensions\n",
    "dim_output = 2  # action space dimensions\n",
    "d = Dynamics()  # define dynamics\n",
    "c = Controller(dim_input, dim_hidden, dim_output)  # define controller\n",
    "s = Simulation(c, d, T)  # define simulation\n",
    "o = Optimize(s)  # define optimizer\n",
    "o.train(40)  # solve the optimization problem\n",
    "# U = t.tensor([BOOST_ACCEL*action[0], action[1]])\n",
    "print(s)\n",
    "print(type(s))\n",
    "print(d)\n",
    "print(c)"
   ]
  },
  {
   "cell_type": "code",
   "execution_count": 24,
   "id": "6aa2f7fd",
   "metadata": {},
   "outputs": [
    {
     "name": "stdout",
     "output_type": "stream",
     "text": [
      "|   iter    |  target   |     x     |     y     |\n",
      "-------------------------------------------------\n",
      "| \u001b[0m 1       \u001b[0m | \u001b[0m 17.76   \u001b[0m | \u001b[0m 0.125   \u001b[0m | \u001b[0m 0.7483  \u001b[0m |\n",
      "| \u001b[95m 2       \u001b[0m | \u001b[95m 44.64   \u001b[0m | \u001b[95m 0.1     \u001b[0m | \u001b[95m 0.3721  \u001b[0m |\n",
      "| \u001b[0m 3       \u001b[0m | \u001b[0m 36.1    \u001b[0m | \u001b[0m 0.1065  \u001b[0m | \u001b[0m 0.432   \u001b[0m |\n",
      "| \u001b[95m 4       \u001b[0m | \u001b[95m 62.63   \u001b[0m | \u001b[95m 0.1     \u001b[0m | \u001b[95m 0.2652  \u001b[0m |\n",
      "| \u001b[0m 5       \u001b[0m | \u001b[0m 22.89   \u001b[0m | \u001b[0m 0.109   \u001b[0m | \u001b[0m 0.6659  \u001b[0m |\n",
      "| \u001b[95m 6       \u001b[0m | \u001b[95m 103.8   \u001b[0m | \u001b[95m 0.16    \u001b[0m | \u001b[95m 0.1     \u001b[0m |\n",
      "| \u001b[95m 7       \u001b[0m | \u001b[95m 166.1   \u001b[0m | \u001b[95m 0.1     \u001b[0m | \u001b[95m 0.1     \u001b[0m |\n",
      "=================================================\n",
      "{'target': 166.1129568106312, 'params': {'x': 0.1, 'y': 0.1}}\n",
      "|   iter    |  target   |     x     |     y     |\n",
      "-------------------------------------------------\n",
      "| \u001b[0m 1       \u001b[0m | \u001b[0m 4.439   \u001b[0m | \u001b[0m 0.125   \u001b[0m | \u001b[0m 0.7483  \u001b[0m |\n",
      "| \u001b[95m 2       \u001b[0m | \u001b[95m 11.16   \u001b[0m | \u001b[95m 0.1     \u001b[0m | \u001b[95m 0.3721  \u001b[0m |\n",
      "| \u001b[0m 3       \u001b[0m | \u001b[0m 9.024   \u001b[0m | \u001b[0m 0.1065  \u001b[0m | \u001b[0m 0.432   \u001b[0m |\n",
      "| \u001b[95m 4       \u001b[0m | \u001b[95m 15.66   \u001b[0m | \u001b[95m 0.1     \u001b[0m | \u001b[95m 0.2652  \u001b[0m |\n",
      "| \u001b[0m 5       \u001b[0m | \u001b[0m 5.723   \u001b[0m | \u001b[0m 0.109   \u001b[0m | \u001b[0m 0.6659  \u001b[0m |\n",
      "| \u001b[95m 6       \u001b[0m | \u001b[95m 25.96   \u001b[0m | \u001b[95m 0.16    \u001b[0m | \u001b[95m 0.1     \u001b[0m |\n",
      "| \u001b[95m 7       \u001b[0m | \u001b[95m 41.53   \u001b[0m | \u001b[95m 0.1     \u001b[0m | \u001b[95m 0.1     \u001b[0m |\n",
      "=================================================\n",
      "{'target': 41.5282392026578, 'params': {'x': 0.1, 'y': 0.1}}\n",
      "|   iter    |  target   |     x     |     y     |\n",
      "-------------------------------------------------\n",
      "| \u001b[0m 1       \u001b[0m | \u001b[0m 1.973   \u001b[0m | \u001b[0m 0.125   \u001b[0m | \u001b[0m 0.7483  \u001b[0m |\n",
      "| \u001b[95m 2       \u001b[0m | \u001b[95m 4.96    \u001b[0m | \u001b[95m 0.1     \u001b[0m | \u001b[95m 0.3721  \u001b[0m |\n",
      "| \u001b[0m 3       \u001b[0m | \u001b[0m 4.011   \u001b[0m | \u001b[0m 0.1065  \u001b[0m | \u001b[0m 0.432   \u001b[0m |\n",
      "| \u001b[95m 4       \u001b[0m | \u001b[95m 6.959   \u001b[0m | \u001b[95m 0.1     \u001b[0m | \u001b[95m 0.2652  \u001b[0m |\n",
      "| \u001b[0m 5       \u001b[0m | \u001b[0m 2.544   \u001b[0m | \u001b[0m 0.109   \u001b[0m | \u001b[0m 0.6659  \u001b[0m |\n",
      "| \u001b[95m 6       \u001b[0m | \u001b[95m 11.54   \u001b[0m | \u001b[95m 0.16    \u001b[0m | \u001b[95m 0.1     \u001b[0m |\n",
      "| \u001b[95m 7       \u001b[0m | \u001b[95m 18.46   \u001b[0m | \u001b[95m 0.1     \u001b[0m | \u001b[95m 0.1     \u001b[0m |\n",
      "=================================================\n",
      "{'target': 18.456995201181247, 'params': {'x': 0.1, 'y': 0.1}}\n",
      "|   iter    |  target   |     x     |     y     |\n",
      "-------------------------------------------------\n",
      "| \u001b[0m 1       \u001b[0m | \u001b[0m 1.11    \u001b[0m | \u001b[0m 0.125   \u001b[0m | \u001b[0m 0.7483  \u001b[0m |\n",
      "| \u001b[95m 2       \u001b[0m | \u001b[95m 2.79    \u001b[0m | \u001b[95m 0.1     \u001b[0m | \u001b[95m 0.3721  \u001b[0m |\n",
      "| \u001b[0m 3       \u001b[0m | \u001b[0m 2.256   \u001b[0m | \u001b[0m 0.1065  \u001b[0m | \u001b[0m 0.432   \u001b[0m |\n",
      "| \u001b[95m 4       \u001b[0m | \u001b[95m 3.914   \u001b[0m | \u001b[95m 0.1     \u001b[0m | \u001b[95m 0.2652  \u001b[0m |\n",
      "| \u001b[0m 5       \u001b[0m | \u001b[0m 1.431   \u001b[0m | \u001b[0m 0.109   \u001b[0m | \u001b[0m 0.6659  \u001b[0m |\n",
      "| \u001b[95m 6       \u001b[0m | \u001b[95m 6.489   \u001b[0m | \u001b[95m 0.16    \u001b[0m | \u001b[95m 0.1     \u001b[0m |\n",
      "| \u001b[95m 7       \u001b[0m | \u001b[95m 10.38   \u001b[0m | \u001b[95m 0.1     \u001b[0m | \u001b[95m 0.1     \u001b[0m |\n",
      "=================================================\n",
      "{'target': 10.38205980066445, 'params': {'x': 0.1, 'y': 0.1}}\n",
      "|   iter    |  target   |     x     |     y     |\n",
      "-------------------------------------------------\n",
      "| \u001b[0m 1       \u001b[0m | \u001b[0m 0.7102  \u001b[0m | \u001b[0m 0.125   \u001b[0m | \u001b[0m 0.7483  \u001b[0m |\n",
      "| \u001b[95m 2       \u001b[0m | \u001b[95m 1.786   \u001b[0m | \u001b[95m 0.1     \u001b[0m | \u001b[95m 0.3721  \u001b[0m |\n",
      "| \u001b[0m 3       \u001b[0m | \u001b[0m 1.444   \u001b[0m | \u001b[0m 0.1065  \u001b[0m | \u001b[0m 0.432   \u001b[0m |\n",
      "| \u001b[95m 4       \u001b[0m | \u001b[95m 2.505   \u001b[0m | \u001b[95m 0.1     \u001b[0m | \u001b[95m 0.2652  \u001b[0m |\n",
      "| \u001b[0m 5       \u001b[0m | \u001b[0m 0.9157  \u001b[0m | \u001b[0m 0.109   \u001b[0m | \u001b[0m 0.6659  \u001b[0m |\n",
      "| \u001b[95m 6       \u001b[0m | \u001b[95m 4.153   \u001b[0m | \u001b[95m 0.16    \u001b[0m | \u001b[95m 0.1     \u001b[0m |\n",
      "| \u001b[95m 7       \u001b[0m | \u001b[95m 6.645   \u001b[0m | \u001b[95m 0.1     \u001b[0m | \u001b[95m 0.1     \u001b[0m |\n",
      "=================================================\n",
      "{'target': 6.644518272425249, 'params': {'x': 0.1, 'y': 0.1}}\n",
      "|   iter    |  target   |     x     |     y     |\n",
      "-------------------------------------------------\n",
      "| \u001b[0m 1       \u001b[0m | \u001b[0m 0.4932  \u001b[0m | \u001b[0m 0.125   \u001b[0m | \u001b[0m 0.7483  \u001b[0m |\n",
      "| \u001b[95m 2       \u001b[0m | \u001b[95m 1.24    \u001b[0m | \u001b[95m 0.1     \u001b[0m | \u001b[95m 0.3721  \u001b[0m |\n",
      "| \u001b[0m 3       \u001b[0m | \u001b[0m 1.003   \u001b[0m | \u001b[0m 0.1065  \u001b[0m | \u001b[0m 0.432   \u001b[0m |\n",
      "| \u001b[95m 4       \u001b[0m | \u001b[95m 1.74    \u001b[0m | \u001b[95m 0.1     \u001b[0m | \u001b[95m 0.2652  \u001b[0m |\n",
      "| \u001b[0m 5       \u001b[0m | \u001b[0m 0.6359  \u001b[0m | \u001b[0m 0.109   \u001b[0m | \u001b[0m 0.6659  \u001b[0m |\n",
      "| \u001b[95m 6       \u001b[0m | \u001b[95m 2.884   \u001b[0m | \u001b[95m 0.16    \u001b[0m | \u001b[95m 0.1     \u001b[0m |\n",
      "| \u001b[95m 7       \u001b[0m | \u001b[95m 4.614   \u001b[0m | \u001b[95m 0.1     \u001b[0m | \u001b[95m 0.1     \u001b[0m |\n",
      "=================================================\n",
      "{'target': 4.614248800295312, 'params': {'x': 0.1, 'y': 0.1}}\n",
      "|   iter    |  target   |     x     |     y     |\n",
      "-------------------------------------------------\n",
      "| \u001b[0m 1       \u001b[0m | \u001b[0m 0.3624  \u001b[0m | \u001b[0m 0.125   \u001b[0m | \u001b[0m 0.7483  \u001b[0m |\n",
      "| \u001b[95m 2       \u001b[0m | \u001b[95m 0.911   \u001b[0m | \u001b[95m 0.1     \u001b[0m | \u001b[95m 0.3721  \u001b[0m |\n",
      "| \u001b[0m 3       \u001b[0m | \u001b[0m 0.7367  \u001b[0m | \u001b[0m 0.1065  \u001b[0m | \u001b[0m 0.432   \u001b[0m |\n",
      "| \u001b[95m 4       \u001b[0m | \u001b[95m 1.278   \u001b[0m | \u001b[95m 0.1     \u001b[0m | \u001b[95m 0.2652  \u001b[0m |\n",
      "| \u001b[0m 5       \u001b[0m | \u001b[0m 0.4672  \u001b[0m | \u001b[0m 0.109   \u001b[0m | \u001b[0m 0.6659  \u001b[0m |\n",
      "| \u001b[95m 6       \u001b[0m | \u001b[95m 2.119   \u001b[0m | \u001b[95m 0.16    \u001b[0m | \u001b[95m 0.1     \u001b[0m |\n",
      "| \u001b[95m 7       \u001b[0m | \u001b[95m 3.39    \u001b[0m | \u001b[95m 0.1     \u001b[0m | \u001b[95m 0.1     \u001b[0m |\n",
      "=================================================\n",
      "{'target': 3.390060343074107, 'params': {'x': 0.1, 'y': 0.1}}\n",
      "|   iter    |  target   |     x     |     y     |\n",
      "-------------------------------------------------\n",
      "| \u001b[0m 1       \u001b[0m | \u001b[0m 0.2774  \u001b[0m | \u001b[0m 0.125   \u001b[0m | \u001b[0m 0.7483  \u001b[0m |\n",
      "| \u001b[95m 2       \u001b[0m | \u001b[95m 0.6975  \u001b[0m | \u001b[95m 0.1     \u001b[0m | \u001b[95m 0.3721  \u001b[0m |\n",
      "| \u001b[0m 3       \u001b[0m | \u001b[0m 0.564   \u001b[0m | \u001b[0m 0.1065  \u001b[0m | \u001b[0m 0.432   \u001b[0m |\n",
      "| \u001b[95m 4       \u001b[0m | \u001b[95m 0.9786  \u001b[0m | \u001b[95m 0.1     \u001b[0m | \u001b[95m 0.2652  \u001b[0m |\n",
      "| \u001b[0m 5       \u001b[0m | \u001b[0m 0.3577  \u001b[0m | \u001b[0m 0.109   \u001b[0m | \u001b[0m 0.6659  \u001b[0m |\n",
      "| \u001b[95m 6       \u001b[0m | \u001b[95m 1.622   \u001b[0m | \u001b[95m 0.16    \u001b[0m | \u001b[95m 0.1     \u001b[0m |\n",
      "| \u001b[95m 7       \u001b[0m | \u001b[95m 2.596   \u001b[0m | \u001b[95m 0.1     \u001b[0m | \u001b[95m 0.1     \u001b[0m |\n",
      "=================================================\n",
      "{'target': 2.5955149501661126, 'params': {'x': 0.1, 'y': 0.1}}\n",
      "|   iter    |  target   |     x     |     y     |\n",
      "-------------------------------------------------\n",
      "| \u001b[0m 1       \u001b[0m | \u001b[0m 0.2192  \u001b[0m | \u001b[0m 0.125   \u001b[0m | \u001b[0m 0.7483  \u001b[0m |\n",
      "| \u001b[95m 2       \u001b[0m | \u001b[95m 0.5511  \u001b[0m | \u001b[95m 0.1     \u001b[0m | \u001b[95m 0.3721  \u001b[0m |\n",
      "| \u001b[0m 3       \u001b[0m | \u001b[0m 0.4456  \u001b[0m | \u001b[0m 0.1065  \u001b[0m | \u001b[0m 0.432   \u001b[0m |\n",
      "| \u001b[95m 4       \u001b[0m | \u001b[95m 0.7732  \u001b[0m | \u001b[95m 0.1     \u001b[0m | \u001b[95m 0.2652  \u001b[0m |\n",
      "| \u001b[0m 5       \u001b[0m | \u001b[0m 0.2826  \u001b[0m | \u001b[0m 0.109   \u001b[0m | \u001b[0m 0.6659  \u001b[0m |\n",
      "| \u001b[95m 6       \u001b[0m | \u001b[95m 1.282   \u001b[0m | \u001b[95m 0.16    \u001b[0m | \u001b[95m 0.1     \u001b[0m |\n",
      "| \u001b[95m 7       \u001b[0m | \u001b[95m 2.051   \u001b[0m | \u001b[95m 0.1     \u001b[0m | \u001b[95m 0.1     \u001b[0m |\n",
      "=================================================\n",
      "{'target': 2.0507772445756935, 'params': {'x': 0.1, 'y': 0.1}}\n",
      "velocity =  0.0\n",
      "velocity =  -0.017777777777777778\n",
      "velocity =  -0.035555555555555556\n",
      "velocity =  -0.05333333333333333\n",
      "velocity =  -0.07111111111111111\n",
      "velocity =  -0.08888888888888889\n",
      "velocity =  -0.10666666666666666\n",
      "velocity =  -0.12444444444444444\n",
      "velocity =  -0.14222222222222222\n",
      "velocity =  -0.16\n",
      "Iteration 0: \n",
      "\t{'target': 0.21921147340290303, 'params': {'x': 0.12502132028215446, 'y': 0.7482920440979423}}\n",
      "velocity =  0.0\n",
      "velocity =  -0.017777777777777778\n",
      "velocity =  -0.035555555555555556\n",
      "velocity =  -0.05333333333333333\n",
      "velocity =  -0.07111111111111111\n",
      "velocity =  -0.08888888888888889\n",
      "velocity =  -0.10666666666666666\n",
      "velocity =  -0.12444444444444444\n",
      "velocity =  -0.14222222222222222\n",
      "velocity =  -0.16\n",
      "Iteration 1: \n",
      "\t{'target': 0.551099245597266, 'params': {'x': 0.1000068624890407, 'y': 0.3720993153686558}}\n",
      "velocity =  0.0\n",
      "velocity =  -0.017777777777777778\n",
      "velocity =  -0.035555555555555556\n",
      "velocity =  -0.05333333333333333\n",
      "velocity =  -0.07111111111111111\n",
      "velocity =  -0.08888888888888889\n",
      "velocity =  -0.10666666666666666\n",
      "velocity =  -0.12444444444444444\n",
      "velocity =  -0.14222222222222222\n",
      "velocity =  -0.16\n",
      "Iteration 2: \n",
      "\t{'target': 0.44564142758429987, 'params': {'x': 0.10652657888576555, 'y': 0.43199125297609153}}\n",
      "velocity =  0.0\n",
      "velocity =  -0.017777777777777778\n",
      "velocity =  -0.035555555555555556\n",
      "velocity =  -0.05333333333333333\n",
      "velocity =  -0.07111111111111111\n",
      "velocity =  -0.08888888888888889\n",
      "velocity =  -0.10666666666666666\n",
      "velocity =  -0.12444444444444444\n",
      "velocity =  -0.14222222222222222\n",
      "velocity =  -0.16\n",
      "Iteration 3: \n",
      "\t{'target': 0.7731872023359507, 'params': {'x': 0.1, 'y': 0.26523683247470886}}\n",
      "velocity =  0.0\n",
      "velocity =  -0.017777777777777778\n",
      "velocity =  -0.035555555555555556\n",
      "velocity =  -0.05333333333333333\n",
      "velocity =  -0.07111111111111111\n",
      "velocity =  -0.08888888888888889\n",
      "velocity =  -0.10666666666666666\n",
      "velocity =  -0.12444444444444444\n",
      "velocity =  -0.14222222222222222\n",
      "velocity =  -0.16\n",
      "Iteration 4: \n",
      "\t{'target': 0.28263685903661945, 'params': {'x': 0.10895840279042378, 'y': 0.6659305876024864}}\n",
      "velocity =  0.0\n",
      "velocity =  -0.017777777777777778\n",
      "velocity =  -0.035555555555555556\n",
      "velocity =  -0.05333333333333333\n",
      "velocity =  -0.07111111111111111\n",
      "velocity =  -0.08888888888888889\n",
      "velocity =  -0.10666666666666666\n",
      "velocity =  -0.12444444444444444\n",
      "velocity =  -0.14222222222222222\n",
      "velocity =  -0.16\n",
      "Iteration 5: \n",
      "\t{'target': 1.2817357778598089, 'params': {'x': 0.16, 'y': 0.1}}\n",
      "velocity =  0.0\n",
      "velocity =  -0.017777777777777778\n",
      "velocity =  -0.035555555555555556\n",
      "velocity =  -0.05333333333333333\n",
      "velocity =  -0.07111111111111111\n",
      "velocity =  -0.08888888888888889\n",
      "velocity =  -0.10666666666666666\n",
      "velocity =  -0.12444444444444444\n",
      "velocity =  -0.14222222222222222\n",
      "velocity =  -0.16\n",
      "Iteration 6: \n",
      "\t{'target': 2.0507772445756935, 'params': {'x': 0.1, 'y': 0.1}}\n"
     ]
    }
   ],
   "source": [
    "# minimize for drag\n",
    "import numpy\n",
    "\n",
    "def black_func(x, y):\n",
    "     return 1/(x*((1.204*v**2)/2)*y)\n",
    "v = numpy.linspace(0, -0.16, num=10)\n",
    "# for i in vel:\n",
    "#     v = vel.append()\n",
    "# print(v)\n",
    "# vel = numpy.array([range(0, -0.16)])\n",
    "from bayes_opt import BayesianOptimization\n",
    "import numpy\n",
    "# import matplotlib as plt\n",
    "# from matplotlib import gridspec\n",
    "# X = []\n",
    "# Y = []\n",
    "# itr = []\n",
    "# t = []\n",
    "bounds = {'x': (0.1, 0.16), 'y': (0.1, 1)}\n",
    "for v in range(1, len(v)):\n",
    "        \n",
    "    optim = BayesianOptimization(f=black_func, pbounds=bounds, random_state=1)\n",
    "    optim.maximize(init_points=2,n_iter=5)\n",
    "    print(optim.max)\n",
    "j = []\n",
    "for i, res in enumerate(optim.res):\n",
    "    for j in numpy.linspace(0, -0.16, num=10):\n",
    "        \n",
    "        print(\"velocity = \", j)\n",
    "    print(\"Iteration {}: \\n\\t{}\".format(i, res))"
   ]
  }
 ],
 "metadata": {
  "kernelspec": {
   "display_name": "Python 3",
   "language": "python",
   "name": "python3"
  },
  "language_info": {
   "codemirror_mode": {
    "name": "ipython",
    "version": 3
   },
   "file_extension": ".py",
   "mimetype": "text/x-python",
   "name": "python",
   "nbconvert_exporter": "python",
   "pygments_lexer": "ipython3",
   "version": "3.8.8"
  }
 },
 "nbformat": 4,
 "nbformat_minor": 5
}
